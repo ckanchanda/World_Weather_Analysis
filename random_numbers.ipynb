{
 "cells": [
  {
   "cell_type": "code",
   "execution_count": 15,
   "id": "de48e088",
   "metadata": {},
   "outputs": [],
   "source": [
    "# Import the random module.\n",
    "import random"
   ]
  },
  {
   "cell_type": "code",
   "execution_count": 16,
   "id": "3b9ef117",
   "metadata": {},
   "outputs": [
    {
     "data": {
      "text/plain": [
       "0.5786779790844254"
      ]
     },
     "execution_count": 16,
     "metadata": {},
     "output_type": "execute_result"
    }
   ],
   "source": [
    "random.random()"
   ]
  },
  {
   "cell_type": "code",
   "execution_count": 17,
   "id": "7c729ccb",
   "metadata": {},
   "outputs": [
    {
     "data": {
      "text/plain": [
       "-50"
      ]
     },
     "execution_count": 17,
     "metadata": {},
     "output_type": "execute_result"
    }
   ],
   "source": [
    "random.randint(-90, 90)"
   ]
  },
  {
   "cell_type": "code",
   "execution_count": 24,
   "id": "932da8bd",
   "metadata": {},
   "outputs": [
    {
     "data": {
      "text/plain": [
       "-51.56907697137783"
      ]
     },
     "execution_count": 24,
     "metadata": {},
     "output_type": "execute_result"
    }
   ],
   "source": [
    "random_number = random.randint(-90, 89) + random.random()\n",
    "random_number"
   ]
  },
  {
   "cell_type": "code",
   "execution_count": 25,
   "id": "ff63d755",
   "metadata": {},
   "outputs": [
    {
     "data": {
      "text/plain": [
       "[-64.83017135480796,\n",
       " 57.874192908589954,\n",
       " 77.83343355636619,\n",
       " 52.13685519822836,\n",
       " -33.07316726963385,\n",
       " -19.565329589250428,\n",
       " 55.48113683159852,\n",
       " -6.091657501374879,\n",
       " -41.986637942947844,\n",
       " 63.79806955547774]"
      ]
     },
     "execution_count": 25,
     "metadata": {},
     "output_type": "execute_result"
    }
   ],
   "source": [
    "x = 1\n",
    "latitudes = []\n",
    "while x < 11:\n",
    "    random_lat = random.randint(-90, 89) + random.random()\n",
    "    latitudes.append(random_lat)\n",
    "    x += 1\n",
    "latitudes"
   ]
  },
  {
   "cell_type": "code",
   "execution_count": 35,
   "id": "89f98cd7",
   "metadata": {},
   "outputs": [
    {
     "data": {
      "text/plain": [
       "-39"
      ]
     },
     "execution_count": 35,
     "metadata": {},
     "output_type": "execute_result"
    }
   ],
   "source": [
    "random.randrange(-90, 90, step=3)"
   ]
  },
  {
   "cell_type": "code",
   "execution_count": 38,
   "id": "1c22633f",
   "metadata": {},
   "outputs": [
    {
     "data": {
      "text/plain": [
       "14.80281907996094"
      ]
     },
     "execution_count": 38,
     "metadata": {},
     "output_type": "execute_result"
    }
   ],
   "source": [
    "random.uniform(-90, 90)"
   ]
  },
  {
   "cell_type": "code",
   "execution_count": 37,
   "id": "c89a828d",
   "metadata": {},
   "outputs": [],
   "source": [
    "# Import the NumPy module.\n",
    "import numpy as np"
   ]
  },
  {
   "cell_type": "code",
   "execution_count": 39,
   "id": "a68ce4e5",
   "metadata": {},
   "outputs": [
    {
     "data": {
      "text/plain": [
       "-69.13747149139095"
      ]
     },
     "execution_count": 39,
     "metadata": {},
     "output_type": "execute_result"
    }
   ],
   "source": [
    "np.random.uniform(-90.000, 90.000)"
   ]
  },
  {
   "cell_type": "code",
   "execution_count": 40,
   "id": "a01b5c08",
   "metadata": {},
   "outputs": [
    {
     "data": {
      "text/plain": [
       "51.58902371405793"
      ]
     },
     "execution_count": 40,
     "metadata": {},
     "output_type": "execute_result"
    }
   ],
   "source": [
    "np.random.uniform(low=-90, high=90)"
   ]
  },
  {
   "cell_type": "code",
   "execution_count": 42,
   "id": "01630704",
   "metadata": {},
   "outputs": [
    {
     "data": {
      "text/plain": [
       "array([-50.73231557,  48.31059297,  49.05056348,  55.58436447,\n",
       "         6.61152674,  53.95418649, -30.54958592,  40.34803929,\n",
       "       -60.35447384, -13.62982567,  -8.30203284,  14.12251781,\n",
       "        18.66572424, -70.19403991, -88.46859979,  61.13569448,\n",
       "         4.6201577 ,  63.09656857,  62.34856768, -63.85057976,\n",
       "       -37.12308115,  84.20679277, -34.52263456, -50.18330455,\n",
       "        89.01063708, -17.17703253, -60.42693846, -65.40976488,\n",
       "        60.93834804, -67.10938257,  11.56699265, -30.46841954,\n",
       "       -12.26073967, -71.98094524,  29.99332528, -54.80237883,\n",
       "         5.50983181,  26.76542505,  51.28529711,  80.75653953,\n",
       "       -55.40320893,  67.01887202,  40.02778356, -84.44018579,\n",
       "       -22.13626933,  89.07983504, -71.55907273,  20.51212973,\n",
       "       -64.39882526,   5.17247859])"
      ]
     },
     "execution_count": 42,
     "metadata": {},
     "output_type": "execute_result"
    }
   ],
   "source": [
    "np.random.uniform(-90.000, 90.000, size=50)"
   ]
  },
  {
   "cell_type": "code",
   "execution_count": 43,
   "id": "42627883",
   "metadata": {},
   "outputs": [],
   "source": [
    "# Import timeit.\n",
    "import timeit"
   ]
  },
  {
   "cell_type": "code",
   "execution_count": 46,
   "id": "6e9b6f3d",
   "metadata": {},
   "outputs": [
    {
     "name": "stdout",
     "output_type": "stream",
     "text": [
      "25.2 µs ± 1.08 µs per loop (mean ± std. dev. of 7 runs, 10,000 loops each)\n"
     ]
    }
   ],
   "source": [
    "%timeit np.random.uniform(-90.000, 90.000, size=1500)"
   ]
  },
  {
   "cell_type": "code",
   "execution_count": 47,
   "id": "4a4cf9b8",
   "metadata": {},
   "outputs": [
    {
     "name": "stdout",
     "output_type": "stream",
     "text": [
      "3.52 ms ± 344 µs per loop (mean ± std. dev. of 7 runs, 100 loops each)\n"
     ]
    }
   ],
   "source": [
    "def latitudes(size):\n",
    "    latitudes = []\n",
    "    x = 0\n",
    "    while x < (size):\n",
    "        random_lat = random.randint(-90, 90) + random.random()\n",
    "        latitudes.append(random_lat)\n",
    "        x += 1\n",
    "    return latitudes\n",
    "# Call the function with 1500.\n",
    "%timeit latitudes(1500)"
   ]
  },
  {
   "cell_type": "code",
   "execution_count": null,
   "id": "042fca30",
   "metadata": {},
   "outputs": [],
   "source": []
  }
 ],
 "metadata": {
  "kernelspec": {
   "display_name": "PythonData",
   "language": "python",
   "name": "pythondata"
  },
  "language_info": {
   "codemirror_mode": {
    "name": "ipython",
    "version": 3
   },
   "file_extension": ".py",
   "mimetype": "text/x-python",
   "name": "python",
   "nbconvert_exporter": "python",
   "pygments_lexer": "ipython3",
   "version": "3.9.12"
  }
 },
 "nbformat": 4,
 "nbformat_minor": 5
}
